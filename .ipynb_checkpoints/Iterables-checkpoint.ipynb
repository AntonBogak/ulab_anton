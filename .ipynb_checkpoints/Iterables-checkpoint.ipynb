{
 "cells": [
  {
   "cell_type": "code",
   "execution_count": 2,
   "id": "9946f915-c75c-4c0a-85fb-e63aa99afedf",
   "metadata": {},
   "outputs": [
    {
     "name": "stdout",
     "output_type": "stream",
     "text": [
      "[1, 2, 3, 4, 5, 6]\n"
     ]
    }
   ],
   "source": [
    "#slicing\n",
    "mylist = [1,2,3,4,5,6]\n",
    "print(mylist)"
   ]
  },
  {
   "cell_type": "code",
   "execution_count": 3,
   "id": "003741bb-aa27-4a20-873d-11494849f799",
   "metadata": {},
   "outputs": [
    {
     "name": "stdout",
     "output_type": "stream",
     "text": [
      "[2, 3, 4]\n"
     ]
    }
   ],
   "source": [
    "print(mylist[1:4])"
   ]
  },
  {
   "cell_type": "code",
   "execution_count": 4,
   "id": "229d48b1-7d96-4427-8871-3f5b391fce92",
   "metadata": {},
   "outputs": [
    {
     "name": "stdout",
     "output_type": "stream",
     "text": [
      "6\n"
     ]
    }
   ],
   "source": [
    "#Negative Indexes\n",
    "print(mylist[-1])"
   ]
  },
  {
   "cell_type": "code",
   "execution_count": 5,
   "id": "5b935290-992a-4fa0-baff-df9af3baceeb",
   "metadata": {},
   "outputs": [
    {
     "name": "stdout",
     "output_type": "stream",
     "text": [
      "[1, 2, 35, 4, 5, 6]\n"
     ]
    }
   ],
   "source": [
    "#modifying elements\n",
    "mylist[2] = 35\n",
    "print(mylist)"
   ]
  },
  {
   "cell_type": "code",
   "execution_count": 6,
   "id": "e5831a79-24b3-429f-b6ea-ca6789f0f5b5",
   "metadata": {},
   "outputs": [
    {
     "name": "stdout",
     "output_type": "stream",
     "text": [
      "[1, 2, 35, 4, 5, 6, 60]\n"
     ]
    }
   ],
   "source": [
    "#appending\n",
    "mylist.append(60)\n",
    "print(mylist)"
   ]
  },
  {
   "cell_type": "code",
   "execution_count": 7,
   "id": "de503761-682c-495a-880c-f0f86ad4d008",
   "metadata": {},
   "outputs": [
    {
     "name": "stdout",
     "output_type": "stream",
     "text": [
      "[1, 35, 4, 5, 6, 60]\n"
     ]
    }
   ],
   "source": [
    "#remove elements\n",
    "mylist.remove(2)\n",
    "print(mylist)"
   ]
  },
  {
   "cell_type": "code",
   "execution_count": 8,
   "id": "af14d26f-cc0c-4770-a242-64b218c78322",
   "metadata": {},
   "outputs": [
    {
     "name": "stdout",
     "output_type": "stream",
     "text": [
      "[1, 35, 4, 5, 6, 60]\n",
      "[1, 4, 6]\n"
     ]
    }
   ],
   "source": [
    "#slicing and striding\n",
    "#striding is slicing with a step\n",
    "# pattern is list[start:stop:step]\n",
    "# to reverse,, \n",
    "print(mylist)\n",
    "print(mylist[::2])"
   ]
  },
  {
   "cell_type": "code",
   "execution_count": 9,
   "id": "9b7a79fd-8449-4286-9d9e-b9fe8af94b6f",
   "metadata": {},
   "outputs": [
    {
     "name": "stdout",
     "output_type": "stream",
     "text": [
      "[1, 35, 4, 5, 6, 60]\n",
      "1\n",
      "35\n",
      "4\n",
      "5\n",
      "6\n",
      "60\n"
     ]
    }
   ],
   "source": [
    "#for loops\n",
    "print(mylist)\n",
    "for variable in mylist:\n",
    "    print(variable)\n"
   ]
  },
  {
   "cell_type": "code",
   "execution_count": 11,
   "id": "d9d313bd-0b87-4fec-b991-335e1118c1ef",
   "metadata": {},
   "outputs": [
    {
     "name": "stdout",
     "output_type": "stream",
     "text": [
      "0 1\n",
      "1 35\n",
      "2 4\n",
      "3 5\n",
      "4 6\n",
      "5 60\n",
      "0 1\n",
      "1 35\n",
      "2 4\n",
      "3 5\n",
      "4 6\n",
      "5 60\n"
     ]
    }
   ],
   "source": [
    "#iterate indexes\n",
    "for i in range(len(mylist)):\n",
    "    print(i, mylist[i])\n",
    "#or u can do this\n",
    "for i, n in enumerate(mylist):\n",
    "    print(i, n)"
   ]
  },
  {
   "cell_type": "code",
   "execution_count": 12,
   "id": "26dc3965-bd41-45d8-b501-6dcd55baaae4",
   "metadata": {},
   "outputs": [
    {
     "name": "stdout",
     "output_type": "stream",
     "text": [
      "x > 10\n"
     ]
    }
   ],
   "source": [
    "#conditionals\n",
    "#if else\n",
    "x = 15\n",
    "if x > 10:\n",
    "    print(f'x > 10')\n",
    "elif x < 10:\n",
    "    print(f'x < 10')\n"
   ]
  },
  {
   "cell_type": "code",
   "execution_count": 14,
   "id": "9ca37424-9e92-4055-8af9-21e171faff02",
   "metadata": {},
   "outputs": [
    {
     "name": "stdout",
     "output_type": "stream",
     "text": [
      "10 is less than 40\n",
      "20 is less than 40\n",
      "35 is less than 40\n",
      "40 is equal to 40\n",
      "50 is greater than 40\n",
      "60 is greater than 40\n"
     ]
    }
   ],
   "source": [
    "#conditionals inside loops\n",
    "mylist = [10, 20, 35, 40, 50, 60]\n",
    "for element in mylist:\n",
    "    if element > 40:\n",
    "        print(f'{element} is greater than 40')\n",
    "    elif element == 40:\n",
    "        print(f'{element} is equal to 40')\n",
    "    else:\n",
    "        print(f'{element} is less than 40')"
   ]
  },
  {
   "cell_type": "code",
   "execution_count": 15,
   "id": "3da725e2-5a07-4e54-8cf3-dbd8576ab820",
   "metadata": {},
   "outputs": [
    {
     "name": "stdout",
     "output_type": "stream",
     "text": [
      "count: 0\n",
      "count: 1\n",
      "count: 2\n",
      "count: 3\n",
      "count: 4\n"
     ]
    }
   ],
   "source": [
    "# while loops\n",
    "count = 0\n",
    "while count < 5:\n",
    "    print('count:', count)\n",
    "    count += 1"
   ]
  },
  {
   "cell_type": "code",
   "execution_count": 17,
   "id": "38c93cba-c18a-4f06-9779-4c5ff89c640e",
   "metadata": {},
   "outputs": [
    {
     "name": "stdout",
     "output_type": "stream",
     "text": [
      "[10, 20, 35, 40, 50, 60]\n",
      "Found 40 at index 3\n"
     ]
    }
   ],
   "source": [
    "#combining loops and conditionals\n",
    "print(mylist)\n",
    "target = 40\n",
    "found = False\n",
    "i = 0\n",
    "while not found and i < len(mylist):\n",
    "    if mylist[i] == target:\n",
    "        print(f'Found {target} at index {i}')\n",
    "        found = True\n",
    "    i += 1"
   ]
  },
  {
   "cell_type": "code",
   "execution_count": null,
   "id": "cb7d0038-75e5-4d4d-a846-a057237fdb79",
   "metadata": {},
   "outputs": [],
   "source": []
  }
 ],
 "metadata": {
  "kernelspec": {
   "display_name": "Python 3 (ipykernel)",
   "language": "python",
   "name": "python3"
  },
  "language_info": {
   "codemirror_mode": {
    "name": "ipython",
    "version": 3
   },
   "file_extension": ".py",
   "mimetype": "text/x-python",
   "name": "python",
   "nbconvert_exporter": "python",
   "pygments_lexer": "ipython3",
   "version": "3.12.4"
  }
 },
 "nbformat": 4,
 "nbformat_minor": 5
}

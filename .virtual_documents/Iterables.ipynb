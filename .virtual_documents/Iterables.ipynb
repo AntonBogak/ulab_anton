#slicing
mylist = [1,2,3,4,5,6]
print(mylist)


print(mylist[1:4])


#Negative Indexes
print(mylist[-1])


#modifying elements
mylist[2] = 35
print(mylist)


#appending
mylist.append(60)
print(mylist)


#remove elements
mylist.remove(2)
print(mylist)


#slicing and striding
#striding is slicing with a step
# pattern is list[start:stop:step]
# to reverse,, 
print(mylist)
print(mylist[::2])


#for loops
print(mylist)
for variable in mylist:
    print(variable)



#iterate indexes
for i in range(len(mylist)):
    print(i, mylist[i])
#or u can do this
for i, n in enumerate(mylist):
    print(i, n)


#conditionals
#if else
x = 15
if x > 10:
    print(f'x > 10')
elif x < 10:
    print(f'x < 10')



#conditionals inside loops
mylist = [10, 20, 35, 40, 50, 60]
for element in mylist:
    if element > 40:
        print(f'{element} is greater than 40')
    elif element == 40:
        print(f'{element} is equal to 40')
    else:
        print(f'{element} is less than 40')


# while loops
count = 0
while count < 5:
    print('count:', count)
    count += 1


#combining loops and conditionals
print(mylist)
target = 40
found = False
i = 0
while not found and i < len(mylist):
    if mylist[i] == target:
        print(f'Found {target} at index {i}')
        found = True
    i += 1




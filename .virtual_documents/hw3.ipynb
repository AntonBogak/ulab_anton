





# reminder: if a "#" is in front of a line of code, your computer will NOT read it
# have python print the following message by running this cell:
print("Python is awesome!")





age = 20 # this is a variable (specifically an integer)
print("The age is:", age)





year = 2024
print(f'The current year is: {year}')
print(type(year))





temperature = 98.6
print(temperature)
print(type(temperature))





name = "Anton"
print(type(name))





weekend = False
print(type(weekend))





favorite_colors = ["Blue", "Green", "Purple"]
print(type(favorite_colors))





answer = 2 + 2 * 5
print(answer)


num1 = 4
num2 = 6
print(num1 + num2)





import math
radius = 5
area = math.pi * (radius **2)
print(area)





print("Something is wrong")



